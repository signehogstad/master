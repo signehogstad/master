{
 "cells": [
  {
   "cell_type": "code",
   "execution_count": 19,
   "metadata": {},
   "outputs": [],
   "source": [
    "import numpy as np\n",
    "import pandas as pd"
   ]
  },
  {
   "cell_type": "code",
   "execution_count": 7,
   "metadata": {},
   "outputs": [
    {
     "name": "stdout",
     "output_type": "stream",
     "text": [
      "Index(['id', 'id ', 'status', 'gender', 'yearofbirth', 'ageatbaseline',\n",
      "       'yearofdiagnosis', 'ageatonset_diagnosis', 'ageatonset_symptoms',\n",
      "       'diseaseduration', 'mdsupdrsI', 'mdsupdrsII', 'mdsupdrsIIIcalc',\n",
      "       'mdsupdrsIV', 'mdsupdrstotalcalc', 'tdpigdphenotype', 'hoehnyahr',\n",
      "       'mdsnmstotal', 'mdsnmsnmf', 'moca', 'bsit'],\n",
      "      dtype='object')\n"
     ]
    }
   ],
   "source": [
    "df1 = pd.read_excel(\"../explanations_riemer_lastrevision_february27th.xlsx\")\n",
    "print(df1.columns)\n"
   ]
  },
  {
   "cell_type": "code",
   "execution_count": 8,
   "metadata": {},
   "outputs": [
    {
     "name": "stdout",
     "output_type": "stream",
     "text": [
      "        0        1        2       3     4   5       6     7     8     9   ...  \\\n",
      "0  01-0002  01-0002  control  female  1954  67     NaN   NaN   NaN   NaN  ...   \n",
      "1  01-0003  01-0003  patient  female  1959  62  2017.0  58.0  57.0  50.0  ...   \n",
      "2  01-0004  01-0004  control    male  1957  63     NaN   NaN   NaN   NaN  ...   \n",
      "3  01-0005  01-0005  patient  female  1952  68  2016.0  64.0  61.0  84.0  ...   \n",
      "4  01-0006  01-0006  patient  female  1960  61  2017.0  57.0  58.0  36.0  ...   \n",
      "\n",
      "    11    12   13    14    15   16  17  18    19    20  \n",
      "0  NaN   NaN  NaN   NaN   NaN  NaN NaN NaN  28.0  11.0  \n",
      "1  4.0  13.0  7.0  36.0    td  2.0 NaN NaN  25.0   7.0  \n",
      "2  NaN   NaN  NaN   NaN   NaN  NaN NaN NaN  27.0  10.0  \n",
      "3  9.0  28.0  1.0  42.0  pigd  3.0 NaN NaN  27.0   6.0  \n",
      "4  3.0  29.0  0.0  38.0    td  2.0 NaN NaN  27.0   5.0  \n",
      "\n",
      "[5 rows x 21 columns]\n"
     ]
    }
   ],
   "source": [
    "df = pd.read_excel(\"../dataset_riemer_lastrevision_february27th.xlsx\", header=None)\n",
    "print(df.head())"
   ]
  },
  {
   "cell_type": "code",
   "execution_count": 29,
   "metadata": {},
   "outputs": [
    {
     "name": "stdout",
     "output_type": "stream",
     "text": [
      "Number of participants: 81\n",
      "\n",
      "Number of females: 36\n",
      "Number of males: 45\n",
      "\n",
      "Number of patients: 60\n",
      "Mean age patients: 69.06666666666666\n",
      "Standard deviation age patients: 8.71754297698357\n",
      "Minimum age patients: 32\n",
      "Maximum age patients: 84\n",
      "Number of female patients: 23\n",
      "Percentage female patients: 38.333333333333336\n",
      "Number of male patients: 37\n",
      "Percentage male patients: 61.666666666666664\n",
      "\n",
      "Number of controls: 21\n",
      "Mean age controls: 65.71428571428571\n",
      "Standard deviation age controls: 9.552575604530546\n",
      "Minimum age controls: 45\n",
      "Maximum age controls: 80\n",
      "Number of female controls: 13\n",
      "Percentage female controls: 61.904761904761905\n",
      "Number of male controls: 8\n",
      "Percentage male controls: 38.095238095238095\n"
     ]
    }
   ],
   "source": [
    "status = df.iloc[:,2]\n",
    "gender = df.iloc[:,3]\n",
    "age = df.iloc[:,5]\n",
    "n_controls = 0\n",
    "n_patients = 0\n",
    "n_females = 0\n",
    "n_males = 0\n",
    "n_female_patients = 0\n",
    "n_male_patients = 0\n",
    "n_female_controls = 0\n",
    "n_male_controls = 0\n",
    "age_controls = []\n",
    "age_patients = []\n",
    "for index, participant in enumerate(status):\n",
    "    if participant == \"control\":\n",
    "        n_controls += 1\n",
    "        if gender[index] == \"female\":\n",
    "            n_female_controls += 1\n",
    "        else:\n",
    "            n_male_controls += 1\n",
    "        age_controls.append(age[index])\n",
    "    else:\n",
    "        n_patients += 1\n",
    "        if gender[index] == \"female\":\n",
    "            n_female_patients += 1\n",
    "        else:\n",
    "            n_male_patients += 1\n",
    "        age_patients.append(age[index])\n",
    "\n",
    "    if gender[index] == \"female\":\n",
    "        n_females += 1\n",
    "    else:\n",
    "        n_males += 1\n",
    "\n",
    "mean_age_patients = np.mean(age_patients)\n",
    "mean_age_controls = np.mean(age_controls)\n",
    "std_age_patients = np.std(age_patients)\n",
    "std_age_controls = np.std(age_controls)\n",
    "min_age_patients = np.min(age_patients)\n",
    "max_age_patients = np.max(age_patients)\n",
    "min_age_controls = np.min(age_controls)\n",
    "max_age_controls = np.max(age_controls)\n",
    "\n",
    "print(f\"Number of participants: {n_patients+n_controls}\")\n",
    "print()\n",
    "print(f\"Number of females: {n_females}\")\n",
    "print(f\"Number of males: {n_males}\")\n",
    "print()\n",
    "print(f\"Number of patients: {n_patients}\")\n",
    "print(f\"Mean age patients: {mean_age_patients}\")\n",
    "print(f\"Standard deviation age patients: {std_age_patients}\")\n",
    "print(f\"Minimum age patients: {min_age_patients}\")\n",
    "print(f\"Maximum age patients: {max_age_patients}\")\n",
    "print(f\"Number of female patients: {n_female_patients}\")\n",
    "print(f\"Percentage female patients: {100*n_female_patients/n_patients}\")\n",
    "print(f\"Number of male patients: {n_male_patients}\")\n",
    "print(f\"Percentage male patients: {100*n_male_patients/n_patients}\")\n",
    "print()\n",
    "print(f\"Number of controls: {n_controls}\")\n",
    "print(f\"Mean age controls: {mean_age_controls}\")\n",
    "print(f\"Standard deviation age controls: {std_age_controls}\")\n",
    "print(f\"Minimum age controls: {min_age_controls}\")\n",
    "print(f\"Maximum age controls: {max_age_controls}\")\n",
    "print(f\"Number of female controls: {n_female_controls}\")\n",
    "print(f\"Percentage female controls: {100*n_female_controls/n_controls}\")\n",
    "print(f\"Number of male controls: {n_male_controls}\")\n",
    "print(f\"Percentage male controls: {100*n_male_controls/n_controls}\")\n",
    "\n"
   ]
  },
  {
   "cell_type": "code",
   "execution_count": 32,
   "metadata": {},
   "outputs": [
    {
     "name": "stdout",
     "output_type": "stream",
     "text": [
      "Mean age of diagnosis: 64.5\n",
      "Standard deviation age of diagnosis: 9.332315107365261\n",
      "Minimum age of diagnosis: 30.0\n",
      "Maximum age of diagnosis: 79.0\n"
     ]
    }
   ],
   "source": [
    "age_of_diagnosis = df.iloc[:,7].dropna()\n",
    "mean_age_of_diagnosis = np.mean(age_of_diagnosis)\n",
    "std_age_of_diagnosis = np.std(age_of_diagnosis)\n",
    "min_age_of_diagnosis = np.min(age_of_diagnosis)\n",
    "max_age_of_diagnosis = np.max(age_of_diagnosis)\n",
    "print(f\"Mean age of diagnosis: {mean_age_of_diagnosis}\")\n",
    "print(f\"Standard deviation age of diagnosis: {std_age_of_diagnosis}\")\n",
    "print(f\"Minimum age of diagnosis: {min_age_of_diagnosis}\")\n",
    "print(f\"Maximum age of diagnosis: {max_age_of_diagnosis}\")\n",
    "\n",
    "# Age of symptom onset"
   ]
  }
 ],
 "metadata": {
  "kernelspec": {
   "display_name": "Python 3.9.7 ('base')",
   "language": "python",
   "name": "python3"
  },
  "language_info": {
   "codemirror_mode": {
    "name": "ipython",
    "version": 3
   },
   "file_extension": ".py",
   "mimetype": "text/x-python",
   "name": "python",
   "nbconvert_exporter": "python",
   "pygments_lexer": "ipython3",
   "version": "3.9.7"
  },
  "orig_nbformat": 4,
  "vscode": {
   "interpreter": {
    "hash": "f77ce37f83442f1cc63b5ffee036ed29554c0449fdc01de53643e5695bbe5eb3"
   }
  }
 },
 "nbformat": 4,
 "nbformat_minor": 2
}
